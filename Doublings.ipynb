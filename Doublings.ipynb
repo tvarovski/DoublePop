{
  "nbformat": 4,
  "nbformat_minor": 0,
  "metadata": {
    "colab": {
      "name": "Doublings.ipynb",
      "provenance": [],
      "collapsed_sections": []
    },
    "kernelspec": {
      "name": "python3",
      "display_name": "Python 3"
    },
    "language_info": {
      "name": "python"
    }
  },
  "cells": [
    {
      "cell_type": "markdown",
      "metadata": {
        "id": "8d3dZxwjL6hV"
      },
      "source": [
        "# Popultion Doublings Counter\n",
        "\n",
        "This notebook helps with counting the number of population doublings of your yeast cultures.\n",
        "\n",
        "To use this notebook, first run the piece of code below by pressing the \"start\" button in the upper left corner.\n",
        "\n"
      ]
    },
    {
      "cell_type": "code",
      "metadata": {
        "id": "wcKbwEGJH7Hr"
      },
      "source": [
        "def calculatePopulationDoublings(initial_population, final_population_ml, final_culture_volume):\n",
        "  final_population = final_population_ml * final_culture_volume\n",
        "  doubling_cycle_size = final_population\n",
        "  doublings = 0\n",
        "  while doubling_cycle_size > initial_population:\n",
        "    if doubling_cycle_size < initial_population*2:\n",
        "      doublings = doublings + (doubling_cycle_size-initial_population)/initial_population\n",
        "      break\n",
        "    doubling_cycle_size = doubling_cycle_size/2.0\n",
        "    doublings += 1\n",
        "  print(\"Starting from the population size of %s to the final size of %s cells,\\nthere were %s population doublings\" % (initial_population, final_population, doublings))"
      ],
      "execution_count": null,
      "outputs": []
    },
    {
      "cell_type": "markdown",
      "metadata": {
        "id": "vCh54-iCMrxq"
      },
      "source": [
        "### Settings\n",
        "\n",
        "To get results you will need to adjust initial and final population densities.\n",
        "\n",
        " - set `initial_population` to the cell count on the beginning of your experiment used as inoculum.\n",
        " - set `final_population_ml` to the /ml cell count at the time you want to measure population doublings.\n",
        " - set `final_culture_volume` to the volume of your final culture.\n",
        "\n",
        "\n",
        " After adjusting the variables, run the second piece of code below like you have done above.\n"
      ]
    },
    {
      "cell_type": "code",
      "metadata": {
        "colab": {
          "base_uri": "https://localhost:8080/"
        },
        "id": "2Fe5wzfEHPPF",
        "outputId": "1930e0c7-4940-4287-f1c2-5d223bed0e69"
      },
      "source": [
        "#change variables below to your needs\n",
        "initial_population = 1000\n",
        "final_population_ml = 2367\n",
        "final_culture_volume = 3.708\n",
        "\n",
        "calculatePopulationDoublings(initial_population, final_population_ml, final_culture_volume)"
      ],
      "execution_count": null,
      "outputs": [
        {
          "output_type": "stream",
          "text": [
            "Starting from the population size of 1000 to the final size of 8776.836000000001 cells,\n",
            "there were 3.0971045000000004 population doublings\n"
          ],
          "name": "stdout"
        }
      ]
    }
  ]
}